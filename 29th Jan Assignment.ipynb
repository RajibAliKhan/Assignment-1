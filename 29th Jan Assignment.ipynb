{
 "cells": [
  {
   "cell_type": "code",
   "execution_count": null,
   "id": "99b70b51-1a25-4c0f-9629-5b71693fec7b",
   "metadata": {},
   "outputs": [],
   "source": [
    "1. Guido van Rossum, a Dutch programmer developed Python programming language.\n",
    "2. Pyhton supports both object-oriented programming and structured programming. It is basically dynamically type data language.\n",
    "3. Python is a case-sensitive language.\n",
    "4. The correct extection of python file is .py\n",
    "5. Python is an interpreted language.\n",
    "6. int, str, bool, complex.\n",
    "7. '#' is ussed for single line character in Python.\n",
    "8. type() basically used for know the version of Python.\n",
    "9. Lambda\n",
    "10. PIP - Package-management system written in Python.\n",
    "11. Build in functions - l.append(), l.insert(), l.pop(), l.sort().\n",
    "12. An identifier can have a maximum length of 79 characters in Python.\n",
    "13. Benefitss : Data science, Scientific and mathematical properties, graphics designing, Web development & game development. \n",
    "14. Python uses space for memorize data as internal data.\n",
    "15. Python is installed from official website of Python. In Data Science Masters, I can access Python from lab of iNeuron and Physics Wallah.\n",
    "16. Yes, indentation is required in Python. Indentation refers to the spaces at the beginning of a code line."
   ]
  }
 ],
 "metadata": {
  "kernelspec": {
   "display_name": "Python 3 (ipykernel)",
   "language": "python",
   "name": "python3"
  },
  "language_info": {
   "codemirror_mode": {
    "name": "ipython",
    "version": 3
   },
   "file_extension": ".py",
   "mimetype": "text/x-python",
   "name": "python",
   "nbconvert_exporter": "python",
   "pygments_lexer": "ipython3",
   "version": "3.10.8"
  }
 },
 "nbformat": 4,
 "nbformat_minor": 5
}
